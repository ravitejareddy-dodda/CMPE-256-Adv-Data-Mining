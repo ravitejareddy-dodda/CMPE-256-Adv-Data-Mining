{
  "nbformat": 4,
  "nbformat_minor": 0,
  "metadata": {
    "colab": {
      "provenance": [],
      "collapsed_sections": []
    },
    "kernelspec": {
      "name": "python3",
      "display_name": "Python 3"
    },
    "language_info": {
      "name": "python"
    }
  },
  "cells": [
    {
      "cell_type": "code",
      "metadata": {
        "colab": {
          "base_uri": "https://localhost:8080/",
          "height": 281
        },
        "id": "yTGKLY2woJ3j",
        "outputId": "4de8ecc3-7910-4a55-e101-96e754ddd1d5"
      },
      "source": [
        "from sklearn.cluster import KMeans\n",
        "from sklearn import metrics\n",
        "import numpy as np\n",
        "import matplotlib.pyplot as plt\n",
        "shopping_index = np.array([3, 3, 5, 2, 4, 6, 6, 6, 5, 6, 7, 8, 9, 8, 9, 9, 8])\n",
        "income_index = np.array([5, 4, 6, 6, 5, 8, 2, 3, 6, 7, 2, 5, 1, 2, 6, 1, 3])\n",
        "plt.plot()\n",
        "plt.xlim([0, 10])\n",
        "plt.ylim([0, 10])\n",
        "plt.title('Dataset')\n",
        "plt.scatter(shopping_index, income_index)\n",
        "plt.show()"
      ],
      "execution_count": null,
      "outputs": [
        {
          "output_type": "display_data",
          "data": {
            "text/plain": [
              "<Figure size 432x288 with 1 Axes>"
            ],
            "image/png": "[encoded data removed]"
          },
          "metadata": {
            "needs_background": "light"
          }
        }
      ]
    },
    {
      "cell_type": "code",
      "metadata": {
        "id": "3aPSaGeruQU2"
      },
      "source": [
        "shopper = np.array(list(zip(shopping_index, income_index))).reshape(len(shopping_index), 2)\n",
        "colors = ['b', 'g', 'r','y']\n",
        "markers = ['o', '^', '*','+']"
      ],
      "execution_count": null,
      "outputs": []
    },
    {
      "cell_type": "code",
      "metadata": {
        "colab": {
          "base_uri": "https://localhost:8080/",
          "height": 443
        },
        "id": "cNXqLCu1yDoi",
        "outputId": "1c782ccf-4182-468e-b42c-7d9677670a0f"
      },
      "source": [
        "kmeans = KMeans(n_clusters=2, random_state=0).fit(shopper)\n",
        "plt.plot()\n",
        "for i, l in enumerate(kmeans.labels_):\n",
        "    plt.plot(shopping_index[i], income_index[i], color=colors[l], marker=markers[l],ls='None')\n",
        "    plt.xlim([0, 10])\n",
        "    plt.ylim([0, 10])\n",
        "print(\"\\n\\n  K-means for Shopping Index & Income Index  \\n\")\n",
        "plt.show()\n",
        "print(\"\\n\\n Centroids of K-Means Cluster\\n\")\n",
        "kmeans.cluster_centers_"
      ],
      "execution_count": null,
      "outputs": [
        {
          "output_type": "stream",
          "name": "stdout",
          "text": [
            "\n",
            "\n",
            "  K-means for Shopping Index & Income Index  \n",
            "\n"
          ]
        },
        {
          "output_type": "display_data",
          "data": {
            "text/plain": [
              "<Figure size 432x288 with 1 Axes>"
            ],
            "image/png": "[encoded data removed]"
          },
          "metadata": {
            "needs_background": "light"
          }
        },
        {
          "output_type": "stream",
          "name": "stdout",
          "text": [
            "\n",
            "\n",
            " Centroids of K-Means Cluster\n",
            "\n"
          ]
        },
        {
          "output_type": "execute_result",
          "data": {
            "text/plain": [
              "array([[4.25      , 5.875     ],\n",
              "       [7.77777778, 2.77777778]])"
            ]
          },
          "metadata": {},
          "execution_count": 8
        }
      ]
    },
    {
      "cell_type": "code",
      "metadata": {
        "colab": {
          "base_uri": "https://localhost:8080/",
          "height": 460
        },
        "id": "ZB7RXCiqyEI1",
        "outputId": "35b28a63-7541-4d31-cd9e-63879358bf05"
      },
      "source": [
        "kmeans = KMeans(n_clusters=3, random_state=0).fit(shopper)\n",
        "plt.plot()\n",
        "for i, l in enumerate(kmeans.labels_):\n",
        "    plt.plot(shopping_index[i], income_index[i], color=colors[l], marker=markers[l],ls='None')\n",
        "    plt.xlim([0, 10])\n",
        "    plt.ylim([0, 10])\n",
        "print(\"\\n\\n  K-means for Shopping Index & Income Index  \\n\")\n",
        "plt.show()\n",
        "print(\"\\n\\n Centroids of K-Means Cluster\\n\")\n",
        "kmeans.cluster_centers_"
      ],
      "execution_count": null,
      "outputs": [
        {
          "output_type": "stream",
          "name": "stdout",
          "text": [
            "\n",
            "\n",
            "  K-means for Shopping Index & Income Index  \n",
            "\n"
          ]
        },
        {
          "output_type": "display_data",
          "data": {
            "text/plain": [
              "<Figure size 432x288 with 1 Axes>"
            ],
            "image/png": "[encoded data removed]"
          },
          "metadata": {
            "needs_background": "light"
          }
        },
        {
          "output_type": "stream",
          "name": "stdout",
          "text": [
            "\n",
            "\n",
            " Centroids of K-Means Cluster\n",
            "\n"
          ]
        },
        {
          "output_type": "execute_result",
          "data": {
            "text/plain": [
              "array([[3.66666667, 5.33333333],\n",
              "       [7.25      , 6.5       ],\n",
              "       [7.57142857, 2.        ]])"
            ]
          },
          "metadata": {},
          "execution_count": 9
        }
      ]
    },
    {
      "cell_type": "code",
      "metadata": {
        "colab": {
          "base_uri": "https://localhost:8080/",
          "height": 477
        },
        "id": "dlFi0pODpWIP",
        "outputId": "4c1709ee-dfeb-4639-9ad0-2945a2a87cdf"
      },
      "source": [
        "kmeans = KMeans(n_clusters=4, random_state=0).fit(shopper)\n",
        "plt.plot()\n",
        "for i, l in enumerate(kmeans.labels_):\n",
        "    plt.plot(shopping_index[i], income_index[i], color=colors[l], marker=markers[l],ls='None')\n",
        "    plt.xlim([0, 10])\n",
        "    plt.ylim([0, 10])\n",
        "print(\"\\n\\n  K-means for Shopping Index & Income Index  \\n\")\n",
        "plt.show()\n",
        "print(\"\\n\\n Centroids of K-Means Cluster\\n\")\n",
        "kmeans.cluster_centers_"
      ],
      "execution_count": null,
      "outputs": [
        {
          "output_type": "stream",
          "name": "stdout",
          "text": [
            "\n",
            "\n",
            "  K-means for Shopping Index & Income Index  \n",
            "\n"
          ]
        },
        {
          "output_type": "display_data",
          "data": {
            "text/plain": [
              "<Figure size 432x288 with 1 Axes>"
            ],
            "image/png": "[encoded data removed]"
          },
          "metadata": {
            "needs_background": "light"
          }
        },
        {
          "output_type": "stream",
          "name": "stdout",
          "text": [
            "\n",
            "\n",
            " Centroids of K-Means Cluster\n",
            "\n"
          ]
        },
        {
          "output_type": "execute_result",
          "data": {
            "text/plain": [
              "array([[3.        , 5.        ],\n",
              "       [7.57142857, 2.        ],\n",
              "       [5.5       , 6.75      ],\n",
              "       [8.5       , 5.5       ]])"
            ]
          },
          "metadata": {},
          "execution_count": 10
        }
      ]
    }
  ]
}