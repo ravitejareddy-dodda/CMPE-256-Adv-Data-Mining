{
  "nbformat": 4,
  "nbformat_minor": 0,
  "metadata": {
    "colab": {
      "provenance": [],
      "collapsed_sections": [],
      "toc_visible": true
    },
    "kernelspec": {
      "name": "python3",
      "display_name": "Python 3"
    },
    "language_info": {
      "name": "python"
    }
  },
  "cells": [
    {
      "cell_type": "code",
      "metadata": {
        "id": "AAJ2li0hHsR2"
      },
      "source": [
        "import numpy as np\n",
        "import sklearn\n",
        "import matplotlib.pyplot as plt\n",
        "import scipy.cluster.hierarchy as sch\n",
        "from sklearn.cluster import AgglomerativeClustering"
      ],
      "execution_count": null,
      "outputs": []
    },
    {
      "cell_type": "code",
      "metadata": {
        "id": "_WMvHGoDI5zA"
      },
      "source": [
        "X = np.array([[2,2],[2,6],[3,7],[5,2],[5,5],[5,8],\n",
        "    [6,6],[7,3],[8,4],[10,6],[12,8],])"
      ],
      "execution_count": null,
      "outputs": []
    },
    {
      "cell_type": "code",
      "metadata": {
        "colab": {
          "base_uri": "https://localhost:8080/",
          "height": 282
        },
        "id": "8DSJBGavJgwH",
        "outputId": "ebc30129-b4b0-44bc-a5cc-cafdac43a9da"
      },
      "source": [
        "plt.scatter(X[:,0],X[:,1])"
      ],
      "execution_count": null,
      "outputs": [
        {
          "output_type": "execute_result",
          "data": {
            "text/plain": [
              "<matplotlib.collections.PathCollection at 0x7fd689f6fc90>"
            ]
          },
          "metadata": {},
          "execution_count": 4
        },
        {
          "output_type": "display_data",
          "data": {
            "text/plain": [
              "<Figure size 432x288 with 1 Axes>"
            ],
            "image/png": "[encoded data removed]"
          },
          "metadata": {
            "needs_background": "light"
          }
        }
      ]
    },
    {
      "cell_type": "code",
      "metadata": {
        "colab": {
          "base_uri": "https://localhost:8080/"
        },
        "id": "QZUlZyiQTxIG",
        "outputId": "2a84fb7e-b26f-4a40-8c17-7b388cd2ed5c"
      },
      "source": [
        "hcs = AgglomerativeClustering(linkage='single',n_clusters=2).fit(X)\n",
        "hcs.labels_"
      ],
      "execution_count": null,
      "outputs": [
        {
          "output_type": "execute_result",
          "data": {
            "text/plain": [
              "array([1, 0, 0, 0, 0, 0, 0, 0, 0, 0, 0])"
            ]
          },
          "metadata": {},
          "execution_count": 5
        }
      ]
    },
    {
      "cell_type": "code",
      "metadata": {
        "id": "NBfVIXFIVp-_"
      },
      "source": [
        "y_hcs = hcs.fit_predict(X)"
      ],
      "execution_count": null,
      "outputs": []
    },
    {
      "cell_type": "code",
      "metadata": {
        "colab": {
          "base_uri": "https://localhost:8080/",
          "height": 282
        },
        "id": "zLIf1eKrWIVk",
        "outputId": "4ebe8416-712c-4ff7-e591-042b7a2e21cd"
      },
      "source": [
        "plt.scatter(X[y_hcs ==0,0],X[y_hcs==0,1],s=100,c='green')\n",
        "plt.scatter(X[y_hcs ==1,0],X[y_hcs==1,1],s=100,c='blue')\n",
        "plt.scatter(X[y_hcs ==2,0],X[y_hcs==2,1],s=100,c='yellow')\n",
        "plt.scatter(X[y_hcs ==3,0],X[y_hcs==3,1],s=100,c='red')\n",
        "plt.scatter(X[y_hcs ==4,0],X[y_hcs==4,1],s=100,c='black')\n",
        "plt.scatter(X[y_hcs ==5,0],X[y_hcs==5,1],s=100,c='gray')"
      ],
      "execution_count": null,
      "outputs": [
        {
          "output_type": "execute_result",
          "data": {
            "text/plain": [
              "<matplotlib.collections.PathCollection at 0x7fd689a06f50>"
            ]
          },
          "metadata": {},
          "execution_count": 7
        },
        {
          "output_type": "display_data",
          "data": {
            "text/plain": [
              "<Figure size 432x288 with 1 Axes>"
            ],
            "image/png": "[encoded data removed]"
          },
          "metadata": {
            "needs_background": "light"
          }
        }
      ]
    },
    {
      "cell_type": "code",
      "metadata": {
        "colab": {
          "base_uri": "https://localhost:8080/",
          "height": 268
        },
        "id": "Un7tc_pgJUXb",
        "outputId": "bb9e7b36-02d6-46e0-c904-e01a4ce20469"
      },
      "source": [
        "dendrogram = sch.dendrogram(sch.linkage(X,method='single'))"
      ],
      "execution_count": null,
      "outputs": [
        {
          "output_type": "display_data",
          "data": {
            "text/plain": [
              "<Figure size 432x288 with 1 Axes>"
            ],
            "image/png": "[encoded data removed]"
          },
          "metadata": {
            "needs_background": "light"
          }
        }
      ]
    },
    {
      "cell_type": "code",
      "metadata": {
        "colab": {
          "base_uri": "https://localhost:8080/"
        },
        "id": "FLRalE0RaVo-",
        "outputId": "3babe4d1-9cb5-43c7-cc31-98d8ca5ee12d"
      },
      "source": [
        "hcc = AgglomerativeClustering(linkage='complete',n_clusters=3).fit(X)\n",
        "hcc.labels_"
      ],
      "execution_count": null,
      "outputs": [
        {
          "output_type": "execute_result",
          "data": {
            "text/plain": [
              "array([0, 2, 2, 0, 2, 2, 2, 0, 0, 1, 1])"
            ]
          },
          "metadata": {},
          "execution_count": 9
        }
      ]
    },
    {
      "cell_type": "code",
      "metadata": {
        "id": "a93xp7ANan3S"
      },
      "source": [
        "y_hcc = hcc.fit_predict(X)"
      ],
      "execution_count": null,
      "outputs": []
    },
    {
      "cell_type": "code",
      "metadata": {
        "colab": {
          "base_uri": "https://localhost:8080/",
          "height": 282
        },
        "id": "wf2HcsJjatx5",
        "outputId": "ceaf0e84-1d84-41c7-f63a-4f6f1e43d6d7"
      },
      "source": [
        "plt.scatter(X[y_hcc ==0,0],X[y_hcc==0,1],s=100,c='green')\n",
        "plt.scatter(X[y_hcc ==1,0],X[y_hcc==1,1],s=100,c='blue')\n",
        "plt.scatter(X[y_hcc ==2,0],X[y_hcc==2,1],s=100,c='yellow')\n",
        "plt.scatter(X[y_hcc ==3,0],X[y_hcc==3,1],s=100,c='red')\n",
        "plt.scatter(X[y_hcc ==4,0],X[y_hcc==4,1],s=100,c='black')\n",
        "plt.scatter(X[y_hcc ==5,0],X[y_hcc==5,1],s=100,c='gray')"
      ],
      "execution_count": null,
      "outputs": [
        {
          "output_type": "execute_result",
          "data": {
            "text/plain": [
              "<matplotlib.collections.PathCollection at 0x7fd68791af10>"
            ]
          },
          "metadata": {},
          "execution_count": 11
        },
        {
          "output_type": "display_data",
          "data": {
            "text/plain": [
              "<Figure size 432x288 with 1 Axes>"
            ],
            "image/png": "[encoded data removed]"
          },
          "metadata": {
            "needs_background": "light"
          }
        }
      ]
    },
    {
      "cell_type": "code",
      "metadata": {
        "colab": {
          "base_uri": "https://localhost:8080/",
          "height": 268
        },
        "id": "U7clQV3VRBUN",
        "outputId": "bb9b8630-7d92-43e6-bae6-e3eb0ce3be0c"
      },
      "source": [
        "dendrogram = sch.dendrogram(sch.linkage(X,method='complete'))"
      ],
      "execution_count": null,
      "outputs": [
        {
          "output_type": "display_data",
          "data": {
            "text/plain": [
              "<Figure size 432x288 with 1 Axes>"
            ],
            "image/png": "[encoded data removed]"
          },
          "metadata": {
            "needs_background": "light"
          }
        }
      ]
    },
    {
      "cell_type": "code",
      "metadata": {
        "colab": {
          "base_uri": "https://localhost:8080/"
        },
        "id": "upVrlDxHa_1X",
        "outputId": "5e33a046-3796-4f84-b59b-abc04047daa1"
      },
      "source": [
        "hca = AgglomerativeClustering(linkage='average',n_clusters=3).fit(X)\n",
        "hca.labels_"
      ],
      "execution_count": null,
      "outputs": [
        {
          "output_type": "execute_result",
          "data": {
            "text/plain": [
              "array([2, 0, 0, 0, 0, 0, 0, 0, 0, 1, 1])"
            ]
          },
          "metadata": {},
          "execution_count": 13
        }
      ]
    },
    {
      "cell_type": "code",
      "metadata": {
        "id": "pIczKhkDbRMw"
      },
      "source": [
        "y_hca = hca.fit_predict(X)"
      ],
      "execution_count": null,
      "outputs": []
    },
    {
      "cell_type": "code",
      "metadata": {
        "colab": {
          "base_uri": "https://localhost:8080/",
          "height": 282
        },
        "id": "8VdfMRuIbVhs",
        "outputId": "180bf214-1392-4084-ecd6-09d9c4a42097"
      },
      "source": [
        "plt.scatter(X[y_hca ==0,0],X[y_hca==0,1],s=100,c='green')\n",
        "plt.scatter(X[y_hca ==1,0],X[y_hca==1,1],s=100,c='blue')\n",
        "plt.scatter(X[y_hca ==2,0],X[y_hca==2,1],s=100,c='yellow')\n",
        "plt.scatter(X[y_hca ==3,0],X[y_hca==3,1],s=100,c='red')\n",
        "plt.scatter(X[y_hca ==4,0],X[y_hca==4,1],s=100,c='black')\n",
        "plt.scatter(X[y_hca ==5,0],X[y_hca==5,1],s=100,c='gray')"
      ],
      "execution_count": null,
      "outputs": [
        {
          "output_type": "execute_result",
          "data": {
            "text/plain": [
              "<matplotlib.collections.PathCollection at 0x7fd68781e890>"
            ]
          },
          "metadata": {},
          "execution_count": 15
        },
        {
          "output_type": "display_data",
          "data": {
            "text/plain": [
              "<Figure size 432x288 with 1 Axes>"
            ],
            "image/png": "[encoded data removed]"
          },
          "metadata": {
            "needs_background": "light"
          }
        }
      ]
    },
    {
      "cell_type": "code",
      "metadata": {
        "colab": {
          "base_uri": "https://localhost:8080/",
          "height": 268
        },
        "id": "J57Lu5JiR5a5",
        "outputId": "d2e2434b-4899-4038-8a42-0302a3b3776a"
      },
      "source": [
        "dendrogram = sch.dendrogram(sch.linkage(X,method='average'))"
      ],
      "execution_count": null,
      "outputs": [
        {
          "output_type": "display_data",
          "data": {
            "text/plain": [
              "<Figure size 432x288 with 1 Axes>"
            ],
            "image/png": "[encoded data removed]"
          },
          "metadata": {
            "needs_background": "light"
          }
        }
      ]
    }
  ]
}